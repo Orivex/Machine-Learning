{
 "cells": [
  {
   "cell_type": "markdown",
   "metadata": {},
   "source": [
    "### Importing all important libraries"
   ]
  },
  {
   "cell_type": "code",
   "execution_count": 47,
   "metadata": {},
   "outputs": [],
   "source": [
    "import pandas as pd\n",
    "import numpy as np\n",
    "import matplotlib.pyplot as plt\n",
    "from sklearn.cluster import KMeans"
   ]
  },
  {
   "cell_type": "markdown",
   "metadata": {},
   "source": [
    "### Read and boxplot data"
   ]
  },
  {
   "cell_type": "code",
   "execution_count": 62,
   "metadata": {},
   "outputs": [
    {
     "data": {
      "text/html": [
       "<div>\n",
       "<style scoped>\n",
       "    .dataframe tbody tr th:only-of-type {\n",
       "        vertical-align: middle;\n",
       "    }\n",
       "\n",
       "    .dataframe tbody tr th {\n",
       "        vertical-align: top;\n",
       "    }\n",
       "\n",
       "    .dataframe thead th {\n",
       "        text-align: right;\n",
       "    }\n",
       "</style>\n",
       "<table border=\"1\" class=\"dataframe\">\n",
       "  <thead>\n",
       "    <tr style=\"text-align: right;\">\n",
       "      <th></th>\n",
       "      <th>culmen_length_mm</th>\n",
       "      <th>culmen_depth_mm</th>\n",
       "      <th>flipper_length_mm</th>\n",
       "      <th>body_mass_g</th>\n",
       "    </tr>\n",
       "  </thead>\n",
       "  <tbody>\n",
       "    <tr>\n",
       "      <th>0</th>\n",
       "      <td>39.1</td>\n",
       "      <td>18.7</td>\n",
       "      <td>181.0</td>\n",
       "      <td>3750.0</td>\n",
       "    </tr>\n",
       "    <tr>\n",
       "      <th>1</th>\n",
       "      <td>39.5</td>\n",
       "      <td>17.4</td>\n",
       "      <td>186.0</td>\n",
       "      <td>3800.0</td>\n",
       "    </tr>\n",
       "    <tr>\n",
       "      <th>2</th>\n",
       "      <td>40.3</td>\n",
       "      <td>18.0</td>\n",
       "      <td>195.0</td>\n",
       "      <td>3250.0</td>\n",
       "    </tr>\n",
       "    <tr>\n",
       "      <th>4</th>\n",
       "      <td>36.7</td>\n",
       "      <td>19.3</td>\n",
       "      <td>193.0</td>\n",
       "      <td>3450.0</td>\n",
       "    </tr>\n",
       "    <tr>\n",
       "      <th>5</th>\n",
       "      <td>39.3</td>\n",
       "      <td>20.6</td>\n",
       "      <td>190.0</td>\n",
       "      <td>3650.0</td>\n",
       "    </tr>\n",
       "  </tbody>\n",
       "</table>\n",
       "</div>"
      ],
      "text/plain": [
       "   culmen_length_mm  culmen_depth_mm  flipper_length_mm  body_mass_g\n",
       "0              39.1             18.7              181.0       3750.0\n",
       "1              39.5             17.4              186.0       3800.0\n",
       "2              40.3             18.0              195.0       3250.0\n",
       "4              36.7             19.3              193.0       3450.0\n",
       "5              39.3             20.6              190.0       3650.0"
      ]
     },
     "execution_count": 62,
     "metadata": {},
     "output_type": "execute_result"
    }
   ],
   "source": [
    "df = pd.read_csv(\"penguins.csv\")\n",
    "df = df.dropna()             # Delete missing data\n",
    "df = df.drop(\"sex\", axis=1)  # Dropping sex because we want K means clustering and not K mode clustering\n",
    "\n",
    "df.boxplot()\n",
    "df.head()"
   ]
  },
  {
   "cell_type": "markdown",
   "metadata": {},
   "source": [
    "### Dropping outliers (see boxplot)"
   ]
  },
  {
   "cell_type": "code",
   "execution_count": 49,
   "metadata": {},
   "outputs": [],
   "source": [
    "df = df.drop(df[df[\"flipper_length_mm\"] > 1000].index)\n",
    "df = df.drop(df[df[\"flipper_length_mm\"] < 0].index)"
   ]
  },
  {
   "cell_type": "markdown",
   "metadata": {},
   "source": [
    "### Scaling"
   ]
  },
  {
   "cell_type": "code",
   "execution_count": 50,
   "metadata": {},
   "outputs": [
    {
     "data": {
      "text/html": [
       "<div>\n",
       "<style scoped>\n",
       "    .dataframe tbody tr th:only-of-type {\n",
       "        vertical-align: middle;\n",
       "    }\n",
       "\n",
       "    .dataframe tbody tr th {\n",
       "        vertical-align: top;\n",
       "    }\n",
       "\n",
       "    .dataframe thead th {\n",
       "        text-align: right;\n",
       "    }\n",
       "</style>\n",
       "<table border=\"1\" class=\"dataframe\">\n",
       "  <thead>\n",
       "    <tr style=\"text-align: right;\">\n",
       "      <th></th>\n",
       "      <th>culmen_length_mm</th>\n",
       "      <th>culmen_depth_mm</th>\n",
       "      <th>flipper_length_mm</th>\n",
       "      <th>body_mass_g</th>\n",
       "    </tr>\n",
       "  </thead>\n",
       "  <tbody>\n",
       "    <tr>\n",
       "      <th>0</th>\n",
       "      <td>3.290909</td>\n",
       "      <td>7.000000</td>\n",
       "      <td>2.372881</td>\n",
       "      <td>3.625</td>\n",
       "    </tr>\n",
       "    <tr>\n",
       "      <th>1</th>\n",
       "      <td>3.421818</td>\n",
       "      <td>5.607143</td>\n",
       "      <td>3.135593</td>\n",
       "      <td>3.750</td>\n",
       "    </tr>\n",
       "    <tr>\n",
       "      <th>2</th>\n",
       "      <td>3.683636</td>\n",
       "      <td>6.250000</td>\n",
       "      <td>4.508475</td>\n",
       "      <td>2.375</td>\n",
       "    </tr>\n",
       "    <tr>\n",
       "      <th>4</th>\n",
       "      <td>2.505455</td>\n",
       "      <td>7.642857</td>\n",
       "      <td>4.203390</td>\n",
       "      <td>2.875</td>\n",
       "    </tr>\n",
       "    <tr>\n",
       "      <th>5</th>\n",
       "      <td>3.356364</td>\n",
       "      <td>9.035714</td>\n",
       "      <td>3.745763</td>\n",
       "      <td>3.375</td>\n",
       "    </tr>\n",
       "  </tbody>\n",
       "</table>\n",
       "</div>"
      ],
      "text/plain": [
       "   culmen_length_mm  culmen_depth_mm  flipper_length_mm  body_mass_g\n",
       "0          3.290909         7.000000           2.372881        3.625\n",
       "1          3.421818         5.607143           3.135593        3.750\n",
       "2          3.683636         6.250000           4.508475        2.375\n",
       "4          2.505455         7.642857           4.203390        2.875\n",
       "5          3.356364         9.035714           3.745763        3.375"
      ]
     },
     "execution_count": 50,
     "metadata": {},
     "output_type": "execute_result"
    }
   ],
   "source": [
    "df = ( (df - df.min()) / (df.max() - df.min()) ) * 9 + 1\n",
    "\n",
    "df.head()"
   ]
  },
  {
   "cell_type": "markdown",
   "metadata": {},
   "source": [
    "# STEP 1\n",
    "    Pick k random centroids for the k clusters (picking k random rows)"
   ]
  },
  {
   "cell_type": "code",
   "execution_count": 51,
   "metadata": {},
   "outputs": [],
   "source": [
    "def init_random_cluster_centroids(df, k):\n",
    "    return df.sample(n=k).reset_index(drop=True).T"
   ]
  },
  {
   "cell_type": "markdown",
   "metadata": {},
   "source": [
    "# STEP 2\n",
    "    Calculate euclidean distance from the data points to the centroids of the clusters"
   ]
  },
  {
   "cell_type": "code",
   "execution_count": 52,
   "metadata": {},
   "outputs": [],
   "source": [
    "def get_cluster_label(df, cluster_centroid):\n",
    "    distances = cluster_centroid.apply(lambda x: np.sqrt(np.square(df - x).sum(axis=1)) )  # Euclidean distance\n",
    "    distances = distances.idxmin(axis=1)\n",
    "    return distances"
   ]
  },
  {
   "cell_type": "markdown",
   "metadata": {},
   "source": [
    "# STEP 3\n",
    "    Update centroids of clusters based on the assigned data points to those clusters (Geometric mean)"
   ]
  },
  {
   "cell_type": "code",
   "execution_count": 53,
   "metadata": {},
   "outputs": [],
   "source": [
    "def new_cluster_centroid(df, cluster_label):\n",
    "    return df.groupby(cluster_label).apply(lambda x: np.exp(np.log(x).mean())).T"
   ]
  },
  {
   "cell_type": "markdown",
   "metadata": {},
   "source": [
    "# STEP 4\n",
    "    Repeat until centroids don't change anymore or max iterations is reached"
   ]
  },
  {
   "cell_type": "code",
   "execution_count": 54,
   "metadata": {},
   "outputs": [
    {
     "data": {
      "text/html": [
       "<div>\n",
       "<style scoped>\n",
       "    .dataframe tbody tr th:only-of-type {\n",
       "        vertical-align: middle;\n",
       "    }\n",
       "\n",
       "    .dataframe tbody tr th {\n",
       "        vertical-align: top;\n",
       "    }\n",
       "\n",
       "    .dataframe thead th {\n",
       "        text-align: right;\n",
       "    }\n",
       "</style>\n",
       "<table border=\"1\" class=\"dataframe\">\n",
       "  <thead>\n",
       "    <tr style=\"text-align: right;\">\n",
       "      <th></th>\n",
       "      <th>0</th>\n",
       "      <th>1</th>\n",
       "      <th>2</th>\n",
       "      <th>3</th>\n",
       "      <th>4</th>\n",
       "    </tr>\n",
       "  </thead>\n",
       "  <tbody>\n",
       "    <tr>\n",
       "      <th>culmen_length_mm</th>\n",
       "      <td>6.632508</td>\n",
       "      <td>3.522110</td>\n",
       "      <td>6.571642</td>\n",
       "      <td>2.841198</td>\n",
       "      <td>5.296558</td>\n",
       "    </tr>\n",
       "    <tr>\n",
       "      <th>culmen_depth_mm</th>\n",
       "      <td>3.687870</td>\n",
       "      <td>7.508678</td>\n",
       "      <td>6.769745</td>\n",
       "      <td>5.655438</td>\n",
       "      <td>2.119730</td>\n",
       "    </tr>\n",
       "    <tr>\n",
       "      <th>flipper_length_mm</th>\n",
       "      <td>8.489323</td>\n",
       "      <td>4.203149</td>\n",
       "      <td>4.744888</td>\n",
       "      <td>3.115761</td>\n",
       "      <td>7.155094</td>\n",
       "    </tr>\n",
       "    <tr>\n",
       "      <th>body_mass_g</th>\n",
       "      <td>7.877114</td>\n",
       "      <td>4.322221</td>\n",
       "      <td>3.618049</td>\n",
       "      <td>2.594092</td>\n",
       "      <td>5.863034</td>\n",
       "    </tr>\n",
       "  </tbody>\n",
       "</table>\n",
       "</div>"
      ],
      "text/plain": [
       "                          0         1         2         3         4\n",
       "culmen_length_mm   6.632508  3.522110  6.571642  2.841198  5.296558\n",
       "culmen_depth_mm    3.687870  7.508678  6.769745  5.655438  2.119730\n",
       "flipper_length_mm  8.489323  4.203149  4.744888  3.115761  7.155094\n",
       "body_mass_g        7.877114  4.322221  3.618049  2.594092  5.863034"
      ]
     },
     "execution_count": 54,
     "metadata": {},
     "output_type": "execute_result"
    }
   ],
   "source": [
    "cluster_count = 5 # k\n",
    "old_cluster_centroids = pd.DataFrame()\n",
    "current_cluster_centroids = init_random_cluster_centroids(df, cluster_count)\n",
    "\n",
    "for i in range(1, cluster_count+1):\n",
    "    current_cluster_centroids = init_random_cluster_centroids(df, i)\n",
    "    old_cluster_centroids = pd.DataFrame()\n",
    "\n",
    "    while(not current_cluster_centroids.equals(old_cluster_centroids)):\n",
    "        \n",
    "        old_cluster_centroids = current_cluster_centroids\n",
    "        cluster_labels = get_cluster_label(df, current_cluster_centroids)\n",
    "        current_cluster_centroids = new_cluster_centroid(df, cluster_labels)\n",
    "\n",
    "current_cluster_centroids # Result"
   ]
  },
  {
   "cell_type": "markdown",
   "metadata": {},
   "source": [
    "# Elbow method to find the best K"
   ]
  },
  {
   "cell_type": "code",
   "execution_count": 55,
   "metadata": {},
   "outputs": [],
   "source": [
    "def calculate_wcss(df, cluster_centroid): # With-in sum of squares\n",
    "    distances = cluster_centroid.apply(lambda x: np.sqrt(np.square(df - x).sum(axis=1)))\n",
    "    distances = distances.min(axis=1)\n",
    "    return np.sum(distances.values)\n",
    "    "
   ]
  },
  {
   "cell_type": "code",
   "execution_count": 56,
   "metadata": {},
   "outputs": [],
   "source": [
    "def get_wcss_list(max_k):  # Elbow method\n",
    "    wcss_list = []\n",
    "    \n",
    "    for i in range(1, max_k+1):\n",
    "        current_cluster_centroids = init_random_cluster_centroids(df, i)\n",
    "        old_cluster_centroids = pd.DataFrame()\n",
    "\n",
    "        while(not current_cluster_centroids.equals(old_cluster_centroids)):\n",
    "            old_cluster_centroids = current_cluster_centroids\n",
    "            cluster_labels = get_cluster_label(df, current_cluster_centroids)\n",
    "            current_cluster_centroids = new_cluster_centroid(df, cluster_labels)\n",
    "\n",
    "        wcss_list.append(calculate_wcss(df, current_cluster_centroids))\n",
    "\n",
    "    return wcss_list"
   ]
  },
  {
   "cell_type": "markdown",
   "metadata": {},
   "source": [
    "### Compare to Sklearn"
   ]
  },
  {
   "cell_type": "code",
   "execution_count": 57,
   "metadata": {},
   "outputs": [],
   "source": [
    "def sklearn_get_wcss_list(max_k):\n",
    "    sklearn_wcss_list = []\n",
    "    for i in range(1, max_k+1):\n",
    "        kMeans = KMeans(n_clusters=i, init=\"k-means++\")\n",
    "        kMeans.fit(df)\n",
    "        sklearn_wcss_list.append(kMeans.inertia_)\n",
    "    return sklearn_wcss_list"
   ]
  },
  {
   "cell_type": "code",
   "execution_count": 58,
   "metadata": {},
   "outputs": [
    {
     "data": {
      "image/png": "[encoded data removed]",
      "text/plain": [
       "<Figure size 640x480 with 1 Axes>"
      ]
     },
     "metadata": {},
     "output_type": "display_data"
    },
    {
     "data": {
      "image/png": "[encoded data removed]",
      "text/plain": [
       "<Figure size 1000x500 with 2 Axes>"
      ]
     },
     "metadata": {},
     "output_type": "display_data"
    }
   ],
   "source": [
    "fig, ax = plt.subplots(nrows=1, ncols=2, figsize=(10, 5))\n",
    "\n",
    "max_k = 20\n",
    "\n",
    "ax[0].set_title(\"From scratch\")\n",
    "ax[0].set_xlabel(\"Number of clusters (K)\")\n",
    "ax[0].set_ylabel(\"With-in sum of squares\")\n",
    "ax[0].plot(np.arange(1, max_k+1), get_wcss_list(max_k), marker=\"o\")\n",
    "\n",
    "ax[1].set_title(\"Sklearn\")\n",
    "ax[1].set_xlabel(\"Number of clusters (K)\")\n",
    "ax[1].set_ylabel(\"With-in sum of squares\")\n",
    "ax[1].plot(np.arange(1, max_k+1), sklearn_get_wcss_list(max_k), marker=\"o\")\n",
    "\n",
    "plt.show()"
   ]
  }
 ],
 "metadata": {
  "kernelspec": {
   "display_name": "base",
   "language": "python",
   "name": "python3"
  },
  "language_info": {
   "codemirror_mode": {
    "name": "ipython",
    "version": 3
   },
   "file_extension": ".py",
   "mimetype": "text/x-python",
   "name": "python",
   "nbconvert_exporter": "python",
   "pygments_lexer": "ipython3",
   "version": "3.12.7"
  }
 },
 "nbformat": 4,
 "nbformat_minor": 2
}
