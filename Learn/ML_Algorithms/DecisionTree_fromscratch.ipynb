{
 "cells": [
  {
   "cell_type": "code",
   "execution_count": 1,
   "metadata": {},
   "outputs": [],
   "source": [
    "import numpy as np\n",
    "import matplotlib.pyplot as plt"
   ]
  },
  {
   "cell_type": "code",
   "execution_count": 2,
   "metadata": {},
   "outputs": [
    {
     "data": {
      "text/plain": [
       "<matplotlib.collections.PathCollection at 0x1574bf82360>"
      ]
     },
     "execution_count": 2,
     "metadata": {},
     "output_type": "execute_result"
    },
    {
     "data": {
      "image/png": "[encoded data removed]",
      "text/plain": [
       "<Figure size 640x480 with 1 Axes>"
      ]
     },
     "metadata": {},
     "output_type": "display_data"
    }
   ],
   "source": [
    "alter = np.array([16, 18, 18, 18, 19, 21, 40, 9, 10, 16, 32, 43, 70, 63, 25, 27, 28])\n",
    "sportlichkeit = np.array([7.5, 8.5, 6.5, 5.0, 8.0, 10, 4.5, 7.0, 6.5, 5.3, 8.0, 7.9, 2.0, 7.1, 4.9, 6.4, 8.9])\n",
    "mag_patties = np.array([1, 1, 1, 1, 0, 0, 1, 1, 1, 1, 0, 1, 0, 0, 1, 1, 1])\n",
    "\n",
    "training_data = np.c_[alter, sportlichkeit, mag_patties]\n",
    "plt.scatter(alter[mag_patties == 0], sportlichkeit[mag_patties == 0], c=\"red\")\n",
    "plt.scatter(alter[mag_patties == 1], sportlichkeit[mag_patties == 1], c=\"green\")"
   ]
  },
  {
   "cell_type": "code",
   "execution_count": 3,
   "metadata": {},
   "outputs": [],
   "source": [
    "def is_numeric(value):\n",
    "    return isinstance(value, (int, float))"
   ]
  },
  {
   "cell_type": "code",
   "execution_count": 4,
   "metadata": {},
   "outputs": [],
   "source": [
    "class Question: # Note: The Question only works if there is no ordinal categorical data\n",
    "\n",
    "    def __init__(self, feature, value):\n",
    "        self.feature = feature\n",
    "        self.value = value\n",
    "\n",
    "    def match(self, selected_row):\n",
    "        val = selected_row[self.feature]\n",
    "\n",
    "        if(is_numeric(val)):\n",
    "            return val >= self.value\n",
    "        else:\n",
    "            return val == self.value    "
   ]
  },
  {
   "cell_type": "code",
   "execution_count": 5,
   "metadata": {},
   "outputs": [],
   "source": [
    "def partition(rows, question):\n",
    "    \n",
    "    true_rows, false_rows = [], []\n",
    "\n",
    "    for row in rows:\n",
    "        if(question.match(row)):\n",
    "            true_rows.append(row)\n",
    "        else:\n",
    "            false_rows.append(row)\n",
    "        \n",
    "    return true_rows, false_rows"
   ]
  },
  {
   "cell_type": "code",
   "execution_count": 6,
   "metadata": {},
   "outputs": [],
   "source": [
    "def class_counts(rows):\n",
    "    counts = {}\n",
    "    for row in rows:\n",
    "        label = row[-1] # Label/Class\n",
    "        if label not in counts:\n",
    "            counts[label] = 0\n",
    "        counts[label] += 1\n",
    "    return counts"
   ]
  },
  {
   "cell_type": "code",
   "execution_count": 7,
   "metadata": {},
   "outputs": [],
   "source": [
    "def gini_impurity(rows):\n",
    "    impurity = 1\n",
    "\n",
    "    counts = class_counts(rows)\n",
    "\n",
    "    for label in counts:\n",
    "        prob_of_label = counts[label] / float(len(rows))\n",
    "        impurity -= prob_of_label**2 \n",
    "\n",
    "    return impurity\n"
   ]
  },
  {
   "cell_type": "code",
   "execution_count": 8,
   "metadata": {},
   "outputs": [],
   "source": [
    "def information_gain(current_impurity, true_rows, false_rows):\n",
    "    p = float(len(true_rows)) / (len(true_rows) + len(false_rows))\n",
    "    return current_impurity - p * gini_impurity(true_rows) - (1-p) * gini_impurity(false_rows)"
   ]
  },
  {
   "cell_type": "code",
   "execution_count": 9,
   "metadata": {},
   "outputs": [],
   "source": [
    "def find_best_split(rows): # /Find the best question to ask\n",
    "\n",
    "    best_gain = 0\n",
    "    best_question = None\n",
    "    best_true_rows = []\n",
    "    best_false_rows = []\n",
    "    current_impurity = gini_impurity(rows)\n",
    "    n_features = len(rows[0]) - 1\n",
    "\n",
    "    for feature in range(n_features):\n",
    "\n",
    "        values = set(row[feature] for row in rows)\n",
    "        \n",
    "        for value in values:\n",
    "\n",
    "            question = Question(feature, value)\n",
    "\n",
    "            true_rows, false_rows = partition(rows, question)\n",
    "\n",
    "            if(len(true_rows) == 0 or len(false_rows) == 0):\n",
    "                continue\n",
    "\n",
    "            gain = information_gain(current_impurity, true_rows, false_rows)\n",
    "\n",
    "            if(gain > best_gain):\n",
    "                best_gain = gain\n",
    "                best_question = question\n",
    "                best_true_rows = true_rows\n",
    "                best_false_rows = false_rows\n",
    "\n",
    "    return best_gain, best_question, best_true_rows, best_false_rows\n",
    "\n"
   ]
  },
  {
   "cell_type": "code",
   "execution_count": 10,
   "metadata": {},
   "outputs": [],
   "source": [
    "class Decision_Node:\n",
    "    def __init__(self, question, true_branch, false_branch):\n",
    "        self.question = question\n",
    "        self.true_branch = true_branch\n",
    "        self.false_branch = false_branch"
   ]
  },
  {
   "cell_type": "code",
   "execution_count": 11,
   "metadata": {},
   "outputs": [],
   "source": [
    "class Leaf:\n",
    "    def __init__(self, rows):\n",
    "        self.predictions = class_counts(rows) # Occurences of each label"
   ]
  },
  {
   "cell_type": "code",
   "execution_count": 12,
   "metadata": {},
   "outputs": [],
   "source": [
    "def build_tree(rows, current_depth, max_depth):\n",
    "\n",
    "    if(current_depth == max_depth):\n",
    "        return Leaf(rows)\n",
    "\n",
    "    gain, question, true_rows, false_rows = find_best_split(rows)\n",
    "\n",
    "    if(gain == 0):\n",
    "        return Leaf(rows)\n",
    "\n",
    "    true_branch = build_tree(true_rows, current_depth+1, max_depth)\n",
    "    false_branch = build_tree(false_rows, current_depth+1, max_depth)\n",
    "\n",
    "    return Decision_Node(question, true_branch, false_branch) "
   ]
  },
  {
   "cell_type": "code",
   "execution_count": 13,
   "metadata": {},
   "outputs": [],
   "source": [
    "def predict(rows, root):\n",
    "    def classify(row, current_node):\n",
    "        if(isinstance(current_node, Leaf)):\n",
    "            return current_node.predictions\n",
    "        \n",
    "        if(current_node.question.match(row)):\n",
    "            return classify(row, current_node.true_branch)\n",
    "        else:\n",
    "            return classify(row, current_node.false_branch)\n",
    "        \n",
    "    predictions = []\n",
    "    for row in rows:\n",
    "        predictions.append(classify(row, root))\n",
    "    for i in range(len(predictions)):\n",
    "        predictions[i] = max(predictions[i], key=predictions[i].get)\n",
    "\n",
    "    return predictions"
   ]
  },
  {
   "cell_type": "code",
   "execution_count": null,
   "metadata": {},
   "outputs": [],
   "source": [
    "decision_tree = build_tree(training_data, 0, 5)\n",
    "\n",
    "print(\"Wie alt bist du?\")\n",
    "user_alter = float(input())\n",
    "print(\"Wie sportlich bist du? (Auf einer Skala von 1 bis 10)\")\n",
    "user_sportlichkeit = float(input())\n",
    "\n",
    "print(user_alter, user_sportlichkeit)\n",
    "final_predictions = predict([[user_alter, user_sportlichkeit], [user_alter-1, user_sportlichkeit], [user_alter, user_sportlichkeit-1]], decision_tree)\n",
    "\n",
    "print(f\"Final predictions: {final_predictions}\")\n",
    "\n",
    "for final_prediction in final_predictions:\n",
    "    if(final_prediction == 1.0):\n",
    "        print(\"Du wirst wahrscheinlich Patties mögen!\")\n",
    "    elif(final_prediction == 0.0):\n",
    "        print(\"Du wirst wahrscheinlich Patties NICHT mögen!\")"
   ]
  }
 ],
 "metadata": {
  "kernelspec": {
   "display_name": "my-env",
   "language": "python",
   "name": "my-env"
  },
  "language_info": {
   "codemirror_mode": {
    "name": "ipython",
    "version": 3
   },
   "file_extension": ".py",
   "mimetype": "text/x-python",
   "name": "python",
   "nbconvert_exporter": "python",
   "pygments_lexer": "ipython3",
   "version": "3.12.3"
  }
 },
 "nbformat": 4,
 "nbformat_minor": 2
}
