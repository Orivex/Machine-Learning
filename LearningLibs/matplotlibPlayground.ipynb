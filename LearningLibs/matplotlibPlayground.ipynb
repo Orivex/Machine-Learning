{
 "cells": [
  {
   "cell_type": "code",
   "execution_count": null,
   "metadata": {},
   "outputs": [],
   "source": [
    "import numpy as np\n",
    "import matplotlib.pyplot as plt\n",
    "\n",
    "fig, ax = plt.subplots(ncols=2, nrows=2)\n",
    "\n",
    "x_werte = np.arange(0, 10, 0.1)\n",
    "\n",
    "y_werte = [[np.sin(x_werte), np.cos(x_werte)], [np.log(x_werte)]]\n",
    "bezeichnungen = [[\"Sinus\", \"Cosinus\"] , [\"Log\"]]\n",
    "farben = [[\"blue\", \"red\"], [\"orange\"]]\n",
    "\n",
    "# Adjust loop to properly index rows and columns\n",
    "for reihe in range(len(y_werte)):  # Dynamic row handling\n",
    "    for spalte in range(len(y_werte[reihe])):  # Columns in the current row\n",
    "        y = y_werte[reihe][spalte]\n",
    "        bezeichnung = bezeichnungen[reihe][spalte]\n",
    "        farbe = farben[reihe][spalte]\n",
    "        \n",
    "        ax[reihe][spalte].plot(x_werte, y, label=bezeichnung, color=farbe)  # Access column axes\n",
    "        ax[reihe][spalte].set_title(f\"Schaubild der {bezeichnung}-Funktion\")\n",
    "        ax[reihe][spalte].set_xlabel(\"x-Achse\")\n",
    "        ax[reihe][spalte].set_ylabel(\"y-Achse\")\n",
    "\n",
    "fig.legend()\n",
    "fig.tight_layout()\n",
    "plt.show()\n"
   ]
  }
 ],
 "metadata": {
  "kernelspec": {
   "display_name": "base",
   "language": "python",
   "name": "python3"
  },
  "language_info": {
   "codemirror_mode": {
    "name": "ipython",
    "version": 3
   },
   "file_extension": ".py",
   "mimetype": "text/x-python",
   "name": "python",
   "nbconvert_exporter": "python",
   "pygments_lexer": "ipython3",
   "version": "3.12.7"
  }
 },
 "nbformat": 4,
 "nbformat_minor": 2
}
